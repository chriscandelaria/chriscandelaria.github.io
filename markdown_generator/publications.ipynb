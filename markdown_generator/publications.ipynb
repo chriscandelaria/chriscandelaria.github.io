{
 "cells": [
  {
   "cell_type": "markdown",
   "metadata": {},
   "source": [
    "# Publications markdown generator for academicpages\n",
    "\n",
    "Takes a TSV of publications with metadata and converts them for use with [academicpages.github.io](academicpages.github.io). This is an interactive Jupyter notebook ([see more info here](http://jupyter-notebook-beginner-guide.readthedocs.io/en/latest/what_is_jupyter.html)). The core python code is also in `publications.py`. Run either from the `markdown_generator` folder after replacing `publications.tsv` with one containing your data.\n",
    "\n",
    "TODO: Make this work with BibTex and other databases of citations, rather than Stuart's non-standard TSV format and citation style.\n"
   ]
  },
  {
   "cell_type": "markdown",
   "metadata": {},
   "source": [
    "## Data format\n",
    "\n",
    "The TSV needs to have the following columns: pub_date, title, venue, excerpt, citation, site_url, and paper_url, with a header at the top. \n",
    "\n",
    "- `excerpt` and `paper_url` can be blank, but the others must have values. \n",
    "- `pub_date` must be formatted as YYYY-MM-DD.\n",
    "- `url_slug` will be the descriptive part of the .md file and the permalink URL for the page about the paper. The .md file will be `YYYY-MM-DD-[url_slug].md` and the permalink will be `https://[yourdomain]/publications/YYYY-MM-DD-[url_slug]`\n",
    "\n",
    "This is how the raw file looks (it doesn't look pretty, use a spreadsheet or other program to edit and create)."
   ]
  },
  {
   "cell_type": "code",
   "execution_count": 1,
   "metadata": {},
   "outputs": [
    {
     "name": "stdout",
     "output_type": "stream",
     "text": [
      "pub_date\tforthcoming\ttitle\tvenue\texcerpt\tabstract\tcitation\turl_slug\tpaper_url\r",
      "\r\n",
      "2018-08-15\tf0\tBank Linkages and International Trade\tJournal of International Economics\t\"We find that new bank linkages have larger impacts on trade in industries which tend to be subject to more export risk. For U.S. banks, we can show that bank linkages are positively associated with foreign letter of credit exposures.\"\t\"Abstract: We uncover a new channel through which international finance is related to trade: the formation of international bank linkages increases exports. Bank linkages are measured for each pair of countries in each year as a number of bank pairs in these two countries that are connected through cross-border syndicated lending. Using a gravity approach to model trade for 66 countries over 24 years with a full set of fixed effects (source-year, target-year, source-target), we find that new connections between banks in a given country-pair lead to an increase in trade flows between these countries in the following year and to trade diversions from countries competing for similar imports. We conjecture that the mechanism for this effect is the role bank linkages play in reducing export risk and present evidence supporting this conjecture. In particular, using industry-level trade data and controlling for country-pair-year and industry fixed effects, we find that new bank linkages have larger impacts on trade in industries which tend to be subject to more export risk. For U.S. banks, we can show that bank linkages are positively associated with foreign letter of credit exposures.\"\t\"Caballero, J., Candelaria, C. A., & Hale, G. B. (2018). Bank Linkages and International Trade. <i>Journal of International Economics</i>, <i>115</i>, 30–47.\"\tbank-linkages-trade\thttps://doi.org/10.1016/j.jinteco.2018.08.006\r",
      "\r\n",
      "2019-01-01\tf0\tCourt-Ordered Finance Reforms in the Adequacy Era: Heterogeneous Causal Effects and Sensitivity\tEducation Finance & Policy\t\"Seven years after reform, the highest poverty quartile in a treated state experienced an 11.5 percent to 12.1 percent increase in per-pupil spending, and a 6.8 to 11.5 percentage point increase in graduation rates. We subject our benchmark model to various sensitivity tests. Estimates range, in most cases, from 6 to 12 percentage points for graduation rates.\"\t\"Abstract: We provide new evidence about the effect of court-ordered finance reforms that took place between 1989 and 2010 on per-pupil revenues and graduation rates. We account for heterogeneity in the treated and counterfactual groups to estimate the effect of overturning a state's finance system. Seven years after reform, the highest poverty quartile in a treated state experienced an 11.5 percent to 12.1 percent increase in per-pupil spending, and a 6.8 to 11.5 percentage point increase in graduation rates. We subject the model to various sensitivity tests, which provide upper and lower bounds on the estimates. Estimates range, in most cases, from 6 to 12 percentage points for graduation rates.\"\t\"Candelaria, C. A., & Shores, K. A. (2019). Court-Ordered Finance Reforms in the Adequacy Era: Heterogeneous Causal Effects and Sensitivity. <i>Education Finance and Policy</i>, <i>14</i>(1), 31-60.\"\tcourt-ordered-finance-reforms\thttps://doi.org/10.1162/edfp_a_00236\r",
      "\r\n",
      "2019-09-27\tf0\tGet Real! Inflation Adjustments of Educational Finance Data\tEducational Researcher\t\"Researchers have linked the Consumer Price Index (CPI) to three different dates: fall, spring, and academic fiscal years. We demonstrate that linking the CPI to these different academic years results in identifying different trends in U.S. educational spending during the Great Recession. We provide an easy-to-use software package to facilitate implementation of National Center for Education Statistics guidelines.\"\t\"Abstract: Use of education finance data is ubiquitous. Yet, because the academic calendar circumscribes two calendar years, researchers have linked the Consumer Price Index (CPI) to three different dates: fall, spring, and academic fiscal years. We demonstrate that linking the CPI to these different academic years results in identifying different trends in U.S. educational spending during the Great Recession. Descriptive inferences should not be sensitive to researcher discretion about merge years. We provide an easy-to-use software package to facilitate implementation of National Center for Education Statistics guidelines in the hope that future analyses of education finance data will explicitly and consistently apply inflation adjustments.\"\t\"Shores, K. A., & Candelaria, C. A. (2020). Get Real! Inflation Adjustments of Educational Finance Data. <i>Educational Researcher</i>, <i>49</i>(1), 71-74.\"\tget-real-inflation-adjustments\thttps://doi.org/10.3102/0013189X19890338\r",
      "\r\n",
      "2015-08-18\tf0\tPersistence of Regional Wage Differences in China\tPacific Economic Review\t\"We find that some of the cross-province differences in real wages could be related to the quality of labour, industry composition and geographic location of provinces. These factors, taken together, explain approximately half of the cross-province real wage variation.\"\t\"Abstract: Regional wage differences in China appear to be persistent and even to have grown over the past two decades. We study potential explanations for this phenomenon. After adjusting for the difference in the cost of living across provinces, we find that some of the cross-province differences in real wages could be related to the quality of labour, industry composition and geographic location of provinces. These factors, taken together, explain approximately half of the cross-province real wage variation. Interestingly, we find that interprovincial government transfers have not offset regional wage differences during the time period we consider. We also demonstrate that interprovincial migration, while driven in part by levels and changes in wage differences across provinces, did not help offset these differences. These results are consistent with findings in the literature that cross-province labour mobility in China is still limited.\"\t\"Candelaria, C. A., Daly, M. & Hale, G. (2015). Persistence of Regional Wage Differences in China. <i>Pacific Economic Review</i>, <i>20</i>(3), 365-387.\"\tregional-wage-differences-china\thttps://doi.org/10.1111/1468-0106.12113\r",
      "\r\n",
      "2017-08-30\tf0\tThe Effects of No Child Left Behind on Children's Socioemotional Outcomes\tAERA Open\tWe find that the introduction of high-stakes test accountability did not have consistent significant effects on these socioemotional outcomes. These findings can help states address concerns and motivate further research on potential unintended consequences of revised accountability systems under the Every Student Succeeds Act.\t\"Abstract: Many people have worried about possible adverse effects of high-stakes testing on socioemotional outcomes. This article uses a difference-in-differences approach to investigate the effects of the introduction of high-stakes testing via the No Child Left Behind Act on socioemotional outcomes. Data are from the Early Childhood Longitudinal Survey-Kindergarten Cohort of 1998-1999, a nationally representative longitudinal survey. The 10 outcomes that we examine are from the children's Self-Descriptive Questionnaire, including externalizing problems related to paying attention and behavior in school, internalizing problems related to feeling sad and lonely and academic anxiety, as well as interest and competence in math, reading, and school in general. We find that the introduction of high-stakes test accountability did not have consistent significant effects on these socioemotional outcomes. These findings can help states address concerns and motivate further research on potential unintended consequences of revised accountability systems under the Every Student Succeeds Act.\"\t\"Whitney, C. R., & Candelaria, C. A. (2017). The Effects of No Child Left Behind on Children's Socioemotional Outcomes. <i>AERA Open</i>, <i>3</i>(3), 1-21.\"\tnclb-socioemotional-outcomes\thttps://doi.org/10.1177/2332858417726324\r",
      "\r\n",
      "2022-01-01\tf0\tPrioritizing School Finance Equity during an Economic Downturn: Recommendations for State Policy Makers\tEducation Finance & Policy\t\"We show that (1) school districts are racially segregated along class lines; (2) higher-poverty districts receive a greater share of funds from state, as opposed to local sources, making them especially vulnerable during economic downturns; and (3) many states made across-the-board K–12 budget reductions following the Great Recession, but those cuts disproportionately impacted high-poverty districts.\"\t\"Abstract: State budgets temporarily crashed amid the COVID-19 pandemic and economic shutdown, placing education funding at risk. To demonstrate implications for school finance, we show that (1) school districts are racially segregated along class lines; (2) higher-poverty districts receive a greater share of funds from state, as opposed to local sources, making them especially vulnerable during economic downturns; and (3) many states made across-the-board K–12 budget reductions following the Great Recession, but those cuts disproportionately impacted high-poverty districts. A decade later, state legislators may face similar fiscal challenges. Instead of enacting across-the-board cuts, states can identify specific funding programs that already benefit lower-poverty districts or wealthier students. We demonstrate how this approach would work under different state finance models and offer recommendations for state policy makers.\"\t\"Knight, D. S., Hassairi, N., Candelaria, C. A., Sun, M., & Plecki, M. L. (2022). Prioritizing School Finance Equity during an Economic Downturn: Recommendations for State Policymakers. Education Finance and Policy, <i>Education Finance & Policy</i>. <i>17</i>(1), 188-199.\"\tprioritizing-school-finance-equity\thttps://doi.org/10.1162/edfp_a_00356\r",
      "\r\n",
      "9999-01-01\tf1\tSpending More on the Poor? A Comprehensive Summary of State-Specific Responses to School Finance Reforms from 1990-2014\tEducation Finance & Policy\t\"In this study, we estimate the effects of SFRs on revenues and expenditures between 1990 and 2014 for twenty-six states. We find that, on average, per pupil spending increased, especially in low-income districts relative to high-income districts. However, underlying these average effect estimates, the distribution of state-level effect sizes ranges from negative to positive—there is substantial heterogeneity.\"\t\"Abstract: Sixty-seven school finance reforms (SFRs), a combination of court-ordered and legislative reforms, have taken place since 1990; however, there is little empirical evidence on the heterogeneity of SFR effects. In this study, we estimate the effects of SFRs on revenues and expenditures between 1990 and 2014 for twenty-six states. We find that, on average, per pupil spending increased, especially in low-income districts relative to high-income districts. However, underlying these average effect estimates, the distribution of state-level effect sizes ranges from negative to positive—there is substantial heterogeneity. When predicting SFR impacts, we find that multiple state-level SFRs, union strength, and some funding formula components are positively associated with SFR effect sizes in low-income districts. We also show that, on average, states without SFRs adopted funding formula components and increased K–12 state revenues similarly to states with SFRs.\"\t\"Shores, K. A., Candelaria, C. A., & Kabourek, S. E. (In Press). Spending More on the Poor? A Comprehensive Summary of State-Specific Responses to School Finance Reforms from 1990–2014. <i>Education Finance & Policy</i>.\"\tspending-more-on-the-poor\thttps://doi.org/10.1162/edfp_a_00360"
     ]
    }
   ],
   "source": [
    "!cat publications.tsv"
   ]
  },
  {
   "cell_type": "markdown",
   "metadata": {},
   "source": [
    "## Import pandas\n",
    "\n",
    "We are using the very handy pandas library for dataframes."
   ]
  },
  {
   "cell_type": "code",
   "execution_count": 2,
   "metadata": {},
   "outputs": [],
   "source": [
    "import pandas as pd"
   ]
  },
  {
   "cell_type": "markdown",
   "metadata": {},
   "source": [
    "## Import TSV\n",
    "\n",
    "Pandas makes this easy with the read_csv function. We are using a TSV, so we specify the separator as a tab, or `\\t`.\n",
    "\n",
    "I found it important to put this data in a tab-separated values format, because there are a lot of commas in this kind of data and comma-separated values can get messed up. However, you can modify the import statement, as pandas also has read_excel(), read_json(), and others."
   ]
  },
  {
   "cell_type": "code",
   "execution_count": 3,
   "metadata": {},
   "outputs": [
    {
     "data": {
      "text/html": [
       "<div>\n",
       "<style scoped>\n",
       "    .dataframe tbody tr th:only-of-type {\n",
       "        vertical-align: middle;\n",
       "    }\n",
       "\n",
       "    .dataframe tbody tr th {\n",
       "        vertical-align: top;\n",
       "    }\n",
       "\n",
       "    .dataframe thead th {\n",
       "        text-align: right;\n",
       "    }\n",
       "</style>\n",
       "<table border=\"1\" class=\"dataframe\">\n",
       "  <thead>\n",
       "    <tr style=\"text-align: right;\">\n",
       "      <th></th>\n",
       "      <th>pub_date</th>\n",
       "      <th>forthcoming</th>\n",
       "      <th>title</th>\n",
       "      <th>venue</th>\n",
       "      <th>excerpt</th>\n",
       "      <th>abstract</th>\n",
       "      <th>citation</th>\n",
       "      <th>url_slug</th>\n",
       "      <th>paper_url</th>\n",
       "    </tr>\n",
       "  </thead>\n",
       "  <tbody>\n",
       "    <tr>\n",
       "      <th>0</th>\n",
       "      <td>2018-08-15</td>\n",
       "      <td>f0</td>\n",
       "      <td>Bank Linkages and International Trade</td>\n",
       "      <td>Journal of International Economics</td>\n",
       "      <td>We find that new bank linkages have larger imp...</td>\n",
       "      <td>Abstract: We uncover a new channel through whi...</td>\n",
       "      <td>Caballero, J., Candelaria, C. A., &amp; Hale, G. B...</td>\n",
       "      <td>bank-linkages-trade</td>\n",
       "      <td>https://doi.org/10.1016/j.jinteco.2018.08.006</td>\n",
       "    </tr>\n",
       "    <tr>\n",
       "      <th>1</th>\n",
       "      <td>2019-01-01</td>\n",
       "      <td>f0</td>\n",
       "      <td>Court-Ordered Finance Reforms in the Adequacy ...</td>\n",
       "      <td>Education Finance &amp; Policy</td>\n",
       "      <td>Seven years after reform, the highest poverty ...</td>\n",
       "      <td>Abstract: We provide new evidence about the ef...</td>\n",
       "      <td>Candelaria, C. A., &amp; Shores, K. A. (2019). Cou...</td>\n",
       "      <td>court-ordered-finance-reforms</td>\n",
       "      <td>https://doi.org/10.1162/edfp_a_00236</td>\n",
       "    </tr>\n",
       "    <tr>\n",
       "      <th>2</th>\n",
       "      <td>2019-09-27</td>\n",
       "      <td>f0</td>\n",
       "      <td>Get Real! Inflation Adjustments of Educational...</td>\n",
       "      <td>Educational Researcher</td>\n",
       "      <td>Researchers have linked the Consumer Price Ind...</td>\n",
       "      <td>Abstract: Use of education finance data is ubi...</td>\n",
       "      <td>Shores, K. A., &amp; Candelaria, C. A. (2020). Get...</td>\n",
       "      <td>get-real-inflation-adjustments</td>\n",
       "      <td>https://doi.org/10.3102/0013189X19890338</td>\n",
       "    </tr>\n",
       "    <tr>\n",
       "      <th>3</th>\n",
       "      <td>2015-08-18</td>\n",
       "      <td>f0</td>\n",
       "      <td>Persistence of Regional Wage Differences in China</td>\n",
       "      <td>Pacific Economic Review</td>\n",
       "      <td>We find that some of the cross-province differ...</td>\n",
       "      <td>Abstract: Regional wage differences in China a...</td>\n",
       "      <td>Candelaria, C. A., Daly, M. &amp; Hale, G. (2015)....</td>\n",
       "      <td>regional-wage-differences-china</td>\n",
       "      <td>https://doi.org/10.1111/1468-0106.12113</td>\n",
       "    </tr>\n",
       "    <tr>\n",
       "      <th>4</th>\n",
       "      <td>2017-08-30</td>\n",
       "      <td>f0</td>\n",
       "      <td>The Effects of No Child Left Behind on Childre...</td>\n",
       "      <td>AERA Open</td>\n",
       "      <td>We find that the introduction of high-stakes t...</td>\n",
       "      <td>Abstract: Many people have worried about possi...</td>\n",
       "      <td>Whitney, C. R., &amp; Candelaria, C. A. (2017). Th...</td>\n",
       "      <td>nclb-socioemotional-outcomes</td>\n",
       "      <td>https://doi.org/10.1177/2332858417726324</td>\n",
       "    </tr>\n",
       "    <tr>\n",
       "      <th>5</th>\n",
       "      <td>2022-01-01</td>\n",
       "      <td>f0</td>\n",
       "      <td>Prioritizing School Finance Equity during an E...</td>\n",
       "      <td>Education Finance &amp; Policy</td>\n",
       "      <td>We show that (1) school districts are racially...</td>\n",
       "      <td>Abstract: State budgets temporarily crashed am...</td>\n",
       "      <td>Knight, D. S., Hassairi, N., Candelaria, C. A....</td>\n",
       "      <td>prioritizing-school-finance-equity</td>\n",
       "      <td>https://doi.org/10.1162/edfp_a_00356</td>\n",
       "    </tr>\n",
       "    <tr>\n",
       "      <th>6</th>\n",
       "      <td>9999-01-01</td>\n",
       "      <td>f1</td>\n",
       "      <td>Spending More on the Poor? A Comprehensive Sum...</td>\n",
       "      <td>Education Finance &amp; Policy</td>\n",
       "      <td>In this study, we estimate the effects of SFRs...</td>\n",
       "      <td>Abstract: Sixty-seven school finance reforms (...</td>\n",
       "      <td>Shores, K. A., Candelaria, C. A., &amp; Kabourek, ...</td>\n",
       "      <td>spending-more-on-the-poor</td>\n",
       "      <td>https://doi.org/10.1162/edfp_a_00360</td>\n",
       "    </tr>\n",
       "  </tbody>\n",
       "</table>\n",
       "</div>"
      ],
      "text/plain": [
       "     pub_date forthcoming                                              title  \\\n",
       "0  2018-08-15          f0              Bank Linkages and International Trade   \n",
       "1  2019-01-01          f0  Court-Ordered Finance Reforms in the Adequacy ...   \n",
       "2  2019-09-27          f0  Get Real! Inflation Adjustments of Educational...   \n",
       "3  2015-08-18          f0  Persistence of Regional Wage Differences in China   \n",
       "4  2017-08-30          f0  The Effects of No Child Left Behind on Childre...   \n",
       "5  2022-01-01          f0  Prioritizing School Finance Equity during an E...   \n",
       "6  9999-01-01          f1  Spending More on the Poor? A Comprehensive Sum...   \n",
       "\n",
       "                                venue  \\\n",
       "0  Journal of International Economics   \n",
       "1          Education Finance & Policy   \n",
       "2              Educational Researcher   \n",
       "3             Pacific Economic Review   \n",
       "4                           AERA Open   \n",
       "5          Education Finance & Policy   \n",
       "6          Education Finance & Policy   \n",
       "\n",
       "                                             excerpt  \\\n",
       "0  We find that new bank linkages have larger imp...   \n",
       "1  Seven years after reform, the highest poverty ...   \n",
       "2  Researchers have linked the Consumer Price Ind...   \n",
       "3  We find that some of the cross-province differ...   \n",
       "4  We find that the introduction of high-stakes t...   \n",
       "5  We show that (1) school districts are racially...   \n",
       "6  In this study, we estimate the effects of SFRs...   \n",
       "\n",
       "                                            abstract  \\\n",
       "0  Abstract: We uncover a new channel through whi...   \n",
       "1  Abstract: We provide new evidence about the ef...   \n",
       "2  Abstract: Use of education finance data is ubi...   \n",
       "3  Abstract: Regional wage differences in China a...   \n",
       "4  Abstract: Many people have worried about possi...   \n",
       "5  Abstract: State budgets temporarily crashed am...   \n",
       "6  Abstract: Sixty-seven school finance reforms (...   \n",
       "\n",
       "                                            citation  \\\n",
       "0  Caballero, J., Candelaria, C. A., & Hale, G. B...   \n",
       "1  Candelaria, C. A., & Shores, K. A. (2019). Cou...   \n",
       "2  Shores, K. A., & Candelaria, C. A. (2020). Get...   \n",
       "3  Candelaria, C. A., Daly, M. & Hale, G. (2015)....   \n",
       "4  Whitney, C. R., & Candelaria, C. A. (2017). Th...   \n",
       "5  Knight, D. S., Hassairi, N., Candelaria, C. A....   \n",
       "6  Shores, K. A., Candelaria, C. A., & Kabourek, ...   \n",
       "\n",
       "                             url_slug  \\\n",
       "0                 bank-linkages-trade   \n",
       "1       court-ordered-finance-reforms   \n",
       "2      get-real-inflation-adjustments   \n",
       "3     regional-wage-differences-china   \n",
       "4        nclb-socioemotional-outcomes   \n",
       "5  prioritizing-school-finance-equity   \n",
       "6           spending-more-on-the-poor   \n",
       "\n",
       "                                       paper_url  \n",
       "0  https://doi.org/10.1016/j.jinteco.2018.08.006  \n",
       "1           https://doi.org/10.1162/edfp_a_00236  \n",
       "2       https://doi.org/10.3102/0013189X19890338  \n",
       "3        https://doi.org/10.1111/1468-0106.12113  \n",
       "4       https://doi.org/10.1177/2332858417726324  \n",
       "5           https://doi.org/10.1162/edfp_a_00356  \n",
       "6           https://doi.org/10.1162/edfp_a_00360  "
      ]
     },
     "execution_count": 3,
     "metadata": {},
     "output_type": "execute_result"
    }
   ],
   "source": [
    "publications = pd.read_csv(\"publications.tsv\", sep=\"\\t\", header=0)\n",
    "publications\n"
   ]
  },
  {
   "cell_type": "markdown",
   "metadata": {},
   "source": [
    "## Escape special characters\n",
    "\n",
    "YAML is very picky about how it takes a valid string, so we are replacing single and double quotes (and ampersands) with their HTML encoded equivilents. This makes them look not so readable in raw format, but they are parsed and rendered nicely."
   ]
  },
  {
   "cell_type": "code",
   "execution_count": 4,
   "metadata": {},
   "outputs": [],
   "source": [
    "html_escape_table = {\n",
    "    \"&\": \"&amp;\",\n",
    "    '\"': \"&quot;\",\n",
    "    \"'\": \"&apos;\"\n",
    "    }\n",
    "\n",
    "def html_escape(text):\n",
    "    \"\"\"Produce entities within text.\"\"\"\n",
    "    return \"\".join(html_escape_table.get(c,c) for c in text)"
   ]
  },
  {
   "cell_type": "markdown",
   "metadata": {},
   "source": [
    "## Creating the markdown files\n",
    "\n",
    "This is where the heavy lifting is done. This loops through all the rows in the TSV dataframe, then starts to concatentate a big string (```md```) that contains the markdown for each type. It does the YAML metadata first, then does the description for the individual page."
   ]
  },
  {
   "cell_type": "code",
   "execution_count": 5,
   "metadata": {},
   "outputs": [],
   "source": [
    "import os\n",
    "for row, item in publications.iterrows():\n",
    "    \n",
    "    if str(item.forthcoming) == \"f0\":\n",
    "        md_filename =   str(item.pub_date) + \"-\" + item.url_slug + \".md\"\n",
    "        html_filename = str(item.pub_date) + \"-\" + item.url_slug\n",
    "    else:\n",
    "        md_filename =   str(item.pub_date) + \"-\" + \"templink-forthcoming\" + \"-\" + item.url_slug + \".md\"\n",
    "        html_filename = str(item.pub_date) + \"-\" + \"templink-forthcoming\" + \"-\" + item.url_slug\n",
    "        \n",
    "    year = item.pub_date[:4]\n",
    "    \n",
    "    ## YAML variables\n",
    "    \n",
    "    md = \"---\\ntitle: \\\"\"   + item.title + '\"\\n'\n",
    "    \n",
    "    md += \"\"\"collection: publications\"\"\"\n",
    "    \n",
    "    md += \"\\nforthcoming: \" + item.forthcoming\n",
    "    \n",
    "    md += \"\"\"\\npermalink: /publications/\"\"\" + html_filename\n",
    "    \n",
    "    if len(str(item.excerpt)) > 5:\n",
    "        md += \"\\nexcerpt: '\" + html_escape(item.excerpt) + \"'\"\n",
    "    \n",
    "    md += \"\\ndate: \" + str(item.pub_date) \n",
    "    \n",
    "    md += \"\\nvenue: '\" + html_escape(item.venue) + \"'\"\n",
    "    \n",
    "    if len(str(item.paper_url)) > 5:\n",
    "        md += \"\\npaperurl: '\" + item.paper_url + \"'\"\n",
    "    \n",
    "    md += \"\\ncitation: '\" + html_escape(item.citation) + \"'\"\n",
    "    \n",
    "    md += \"\\n---\"\n",
    "    \n",
    "    ## Markdown description for individual page\n",
    "        \n",
    "    if len(str(item.excerpt)) > 5:\n",
    "        md += \"\\n\" + html_escape(item.abstract) + \"\\n\"\n",
    "        \n",
    "    md += \"\\nNote: If you cannot access the published version of the paper via the DOI link above, please contact me at `chris <dot> candelaria <at> vanderbilt <dot> edu` for an ungated copy. \\n\"\n",
    "    \n",
    "    ##if len(str(item.paper_url)) > 5:\n",
    "    ##    md += \"\\n[Download paper here](\" + item.paper_url + \")\\n\" \n",
    "        \n",
    "    ##md += \"\\nRecommended citation: \" + item.citation\n",
    "    \n",
    "    md_filename = os.path.basename(md_filename)\n",
    "       \n",
    "    with open(\"../_publications/\" + md_filename, 'w') as f:\n",
    "        f.write(md)"
   ]
  },
  {
   "cell_type": "markdown",
   "metadata": {},
   "source": [
    "These files are in the publications directory, one directory below where we're working from."
   ]
  },
  {
   "cell_type": "code",
   "execution_count": 6,
   "metadata": {},
   "outputs": [
    {
     "name": "stdout",
     "output_type": "stream",
     "text": [
      "2015-08-18-regional-wage-differences-china.md\r\n",
      "2017-08-30-nclb-socioemotional-outcomes.md\r\n",
      "2018-08-15-bank-linkages-trade.md\r\n",
      "2019-01-01-court-ordered-finance-reforms.md\r\n",
      "2019-09-27-get-real-inflation-adjustments.md\r\n",
      "2022-01-01-prioritizing-school-finance-equity.md\r\n",
      "9999-01-01-templink-forthcoming-spending-more-on-the-poor.md\r\n"
     ]
    }
   ],
   "source": [
    "!ls ../_publications/"
   ]
  },
  {
   "cell_type": "code",
   "execution_count": 7,
   "metadata": {},
   "outputs": [
    {
     "name": "stdout",
     "output_type": "stream",
     "text": [
      "---\r\n",
      "title: \"Persistence of Regional Wage Differences in China\"\r\n",
      "collection: publications\r\n",
      "forthcoming: f0\r\n",
      "permalink: /publications/2015-08-18-regional-wage-differences-china\r\n",
      "excerpt: 'We find that some of the cross-province differences in real wages could be related to the quality of labour, industry composition and geographic location of provinces. These factors, taken together, explain approximately half of the cross-province real wage variation.'\r\n",
      "date: 2015-08-18\r\n",
      "venue: 'Pacific Economic Review'\r\n",
      "paperurl: 'https://doi.org/10.1111/1468-0106.12113'\r\n",
      "citation: 'Candelaria, C. A., Daly, M. &amp; Hale, G. (2015). Persistence of Regional Wage Differences in China. <i>Pacific Economic Review</i>, <i>20</i>(3), 365-387.'\r\n",
      "---\r\n",
      "Abstract: Regional wage differences in China appear to be persistent and even to have grown over the past two decades. We study potential explanations for this phenomenon. After adjusting for the difference in the cost of living across provinces, we find that some of the cross-province differences in real wages could be related to the quality of labour, industry composition and geographic location of provinces. These factors, taken together, explain approximately half of the cross-province real wage variation. Interestingly, we find that interprovincial government transfers have not offset regional wage differences during the time period we consider. We also demonstrate that interprovincial migration, while driven in part by levels and changes in wage differences across provinces, did not help offset these differences. These results are consistent with findings in the literature that cross-province labour mobility in China is still limited.\r\n",
      "\r\n",
      "Note: If you cannot access the published version of the paper via the DOI link above, please contact me at `chris <dot> candelaria <at> vanderbilt <dot> edu` for an ungated copy. \r\n"
     ]
    }
   ],
   "source": [
    "!cat ../_publications/2015-08-18-regional-wage-differences-china.md"
   ]
  },
  {
   "cell_type": "code",
   "execution_count": null,
   "metadata": {},
   "outputs": [],
   "source": []
  },
  {
   "cell_type": "code",
   "execution_count": null,
   "metadata": {},
   "outputs": [],
   "source": []
  }
 ],
 "metadata": {
  "kernelspec": {
   "display_name": "Python 3 (ipykernel)",
   "language": "python",
   "name": "python3"
  },
  "language_info": {
   "codemirror_mode": {
    "name": "ipython",
    "version": 3
   },
   "file_extension": ".py",
   "mimetype": "text/x-python",
   "name": "python",
   "nbconvert_exporter": "python",
   "pygments_lexer": "ipython3",
   "version": "3.9.12"
  }
 },
 "nbformat": 4,
 "nbformat_minor": 1
}
