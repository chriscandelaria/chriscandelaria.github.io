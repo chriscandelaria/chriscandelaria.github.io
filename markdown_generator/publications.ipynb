{
 "cells": [
  {
   "cell_type": "markdown",
   "metadata": {},
   "source": [
    "# Publications markdown generator for academicpages\n",
    "\n",
    "Takes a TSV of publications with metadata and converts them for use with [academicpages.github.io](academicpages.github.io). This is an interactive Jupyter notebook ([see more info here](http://jupyter-notebook-beginner-guide.readthedocs.io/en/latest/what_is_jupyter.html)). The core python code is also in `publications.py`. Run either from the `markdown_generator` folder after replacing `publications.tsv` with one containing your data.\n",
    "\n",
    "TODO: Make this work with BibTex and other databases of citations, rather than Stuart's non-standard TSV format and citation style.\n"
   ]
  },
  {
   "cell_type": "markdown",
   "metadata": {},
   "source": [
    "## Data format\n",
    "\n",
    "The TSV needs to have the following columns: pub_date, title, venue, excerpt, citation, site_url, and paper_url, with a header at the top. \n",
    "\n",
    "- `excerpt` and `paper_url` can be blank, but the others must have values. \n",
    "- `pub_date` must be formatted as YYYY-MM-DD.\n",
    "- `url_slug` will be the descriptive part of the .md file and the permalink URL for the page about the paper. The .md file will be `YYYY-MM-DD-[url_slug].md` and the permalink will be `https://[yourdomain]/publications/YYYY-MM-DD-[url_slug]`\n",
    "\n",
    "This is how the raw file looks (it doesn't look pretty, use a spreadsheet or other program to edit and create)."
   ]
  },
  {
   "cell_type": "code",
   "execution_count": 21,
   "metadata": {},
   "outputs": [
    {
     "name": "stdout",
     "output_type": "stream",
     "text": [
      "pub_date\tforthcoming\ttitle\tvenue\texcerpt\tcitation\turl_slug\tpaper_url\r",
      "\r\n",
      "2015-08-18\tf0\tPersistence of Regional Wage Differences in China\tPacific Economic Review\t\"Abstract: Regional wage differences in China appear to be persistent and even to have grown over the past two decades. We study potential explanations for this phenomenon. After adjusting for the difference in the cost of living across provinces, we find that some of the cross-province differences in real wages could be related to the quality of labour, industry composition and geographic location of provinces. These factors, taken together, explain approximately half of the cross-province real wage variation. Interestingly, we find that interprovincial government transfers have not offset regional wage differences during the time period we consider. We also demonstrate that interprovincial migration, while driven in part by levels and changes in wage differences across provinces, did not help offset these differences. These results are consistent with findings in the literature that cross-province labour mobility in China is still limited.\"\t\"Candelaria, C. A., Daly, M. & Hale, G. (2015). Persistence of Regional Wage Differences in China. <i>Pacific Economic Review</i>. <i>20</i>(3), 365-387.\"\tregional-wage-differences-china\thttps://doi.org/10.1111/1468-0106.12113\r",
      "\r\n",
      "2017-08-30\tf0\tThe Effects of No Child Left Behind on Children's Socioemotional Outcomes\tAERA Open\t\"Abstract: Many people have worried about possible adverse effects of high-stakes testing on socioemotional outcomes. This article uses a difference-in-differences approach to investigate the effects of the introduction of high-stakes testing via the No Child Left Behind Act on socioemotional outcomes. Data are from the Early Childhood Longitudinal Survey-Kindergarten Cohort of 1998-1999, a nationally representative longitudinal survey. The 10 outcomes that we examine are from the children's Self-Descriptive Questionnaire, including externalizing problems related to paying attention and behavior in school, internalizing problems related to feeling sad and lonely and academic anxiety, as well as interest and competence in math, reading, and school in general. We find that the introduction of high-stakes test accountability did not have consistent significant effects on these socioemotional outcomes. These findings can help states address concerns and motivate further research on potential unintended consequences of revised accountability systems under the Every Student Succeeds Act.\"\t\"Whitney, C. R., & Candelaria, C. A. (2017). The Effects of No Child Left Behind on Children's Socioemotional Outcomes. <i>AERA Open</i>. <i>3</i>(3), 1-21.\"\tnclb-socioemotional-outcomes\thttps://doi.org/10.1177/2332858417726324\r",
      "\r\n",
      "9999-01-01\tf1\tSpending More on the Poor? A Comprehensive Summary of State-Specific Responses to School Finance Reforms from 1990-2014\tEducation Finance & Policy\t\"Abstract: Sixty-seven school finance reforms (SFRs), a combination of court-ordered and legislative reforms, have taken place since 1990; however, there is little empirical evidence on the heterogeneity of SFR effects. In this study, we estimate the effects of SFRs on revenues and expenditures between 1990 and 2014 for twenty-six states. We find that, on average, per pupil spending increased, especially in low-income districts relative to high-income districts. However, underlying these average effect estimates, the distribution of state-level effect sizes ranges from negative to positive—there is substantial heterogeneity. When predicting SFR impacts, we find that multiple state-level SFRs, union strength, and some funding formula components are positively associated with SFR effect sizes in low-income districts. We also show that, on average, states without SFRs adopted funding formula components and increased K–12 state revenues similarly to states with SFRs.\"\t\"Shores, K. A., Candelaria, C. A., & Kabourek, S. E. (In Press). Spending More on the Poor? A Comprehensive Summary of State-Specific Responses to School Finance Reforms from 1990–2014. <i>Education Finance & Policy</i>.\"\tspending-more-on-the-poor\thttps://doi.org/10.1162/edfp_a_00360\r",
      "\r\n",
      "2022-01-01\tf0\tPrioritizing School Finance Equity during an Economic Downturn: Recommendations for State Policy Makers\tEducation Finance & Policy\t\"Abstract: State budgets temporarily crashed amid the COVID-19 pandemic and economic shutdown, placing education funding at risk. To demonstrate implications for school finance, we show that (1) school districts are racially segregated along class lines; (2) higher-poverty districts receive a greater share of funds from state, as opposed to local sources, making them especially vulnerable during economic downturns; and (3) many states made across-the-board K–12 budget reductions following the Great Recession, but those cuts disproportionately impacted high-poverty districts. A decade later, state legislators may face similar fiscal challenges. Instead of enacting across-the-board cuts, states can identify specific funding programs that already benefit lower-poverty districts or wealthier students. We demonstrate how this approach would work under different state finance models and offer recommendations for state policy makers.\"\t\"Knight, D. S., Hassairi, N., Candelaria, C. A., Sun, M., & Plecki, M. L. (2022). Prioritizing School Finance Equity during an Economic Downturn: Recommendations for State Policymakers. Education Finance and Policy. <i>Education Finance & Policy</i>. <i>17</i>(1), 188-199. \"\tprioritizing-school-finance-equity\thttps://doi.org/10.1162/edfp_a_00356"
     ]
    }
   ],
   "source": [
    "!cat publications.tsv"
   ]
  },
  {
   "cell_type": "markdown",
   "metadata": {},
   "source": [
    "## Import pandas\n",
    "\n",
    "We are using the very handy pandas library for dataframes."
   ]
  },
  {
   "cell_type": "code",
   "execution_count": 22,
   "metadata": {},
   "outputs": [],
   "source": [
    "import pandas as pd"
   ]
  },
  {
   "cell_type": "markdown",
   "metadata": {},
   "source": [
    "## Import TSV\n",
    "\n",
    "Pandas makes this easy with the read_csv function. We are using a TSV, so we specify the separator as a tab, or `\\t`.\n",
    "\n",
    "I found it important to put this data in a tab-separated values format, because there are a lot of commas in this kind of data and comma-separated values can get messed up. However, you can modify the import statement, as pandas also has read_excel(), read_json(), and others."
   ]
  },
  {
   "cell_type": "code",
   "execution_count": 23,
   "metadata": {},
   "outputs": [
    {
     "data": {
      "text/html": [
       "<div>\n",
       "<style scoped>\n",
       "    .dataframe tbody tr th:only-of-type {\n",
       "        vertical-align: middle;\n",
       "    }\n",
       "\n",
       "    .dataframe tbody tr th {\n",
       "        vertical-align: top;\n",
       "    }\n",
       "\n",
       "    .dataframe thead th {\n",
       "        text-align: right;\n",
       "    }\n",
       "</style>\n",
       "<table border=\"1\" class=\"dataframe\">\n",
       "  <thead>\n",
       "    <tr style=\"text-align: right;\">\n",
       "      <th></th>\n",
       "      <th>pub_date</th>\n",
       "      <th>forthcoming</th>\n",
       "      <th>title</th>\n",
       "      <th>venue</th>\n",
       "      <th>excerpt</th>\n",
       "      <th>citation</th>\n",
       "      <th>url_slug</th>\n",
       "      <th>paper_url</th>\n",
       "    </tr>\n",
       "  </thead>\n",
       "  <tbody>\n",
       "    <tr>\n",
       "      <th>0</th>\n",
       "      <td>2015-08-18</td>\n",
       "      <td>f0</td>\n",
       "      <td>Persistence of Regional Wage Differences in China</td>\n",
       "      <td>Pacific Economic Review</td>\n",
       "      <td>Abstract: Regional wage differences in China a...</td>\n",
       "      <td>Candelaria, C. A., Daly, M. &amp; Hale, G. (2015)....</td>\n",
       "      <td>regional-wage-differences-china</td>\n",
       "      <td>https://doi.org/10.1111/1468-0106.12113</td>\n",
       "    </tr>\n",
       "    <tr>\n",
       "      <th>1</th>\n",
       "      <td>2017-08-30</td>\n",
       "      <td>f0</td>\n",
       "      <td>The Effects of No Child Left Behind on Childre...</td>\n",
       "      <td>AERA Open</td>\n",
       "      <td>Abstract: Many people have worried about possi...</td>\n",
       "      <td>Whitney, C. R., &amp; Candelaria, C. A. (2017). Th...</td>\n",
       "      <td>nclb-socioemotional-outcomes</td>\n",
       "      <td>https://doi.org/10.1177/2332858417726324</td>\n",
       "    </tr>\n",
       "    <tr>\n",
       "      <th>2</th>\n",
       "      <td>9999-01-01</td>\n",
       "      <td>f1</td>\n",
       "      <td>Spending More on the Poor? A Comprehensive Sum...</td>\n",
       "      <td>Education Finance &amp; Policy</td>\n",
       "      <td>Abstract: Sixty-seven school finance reforms (...</td>\n",
       "      <td>Shores, K. A., Candelaria, C. A., &amp; Kabourek, ...</td>\n",
       "      <td>spending-more-on-the-poor</td>\n",
       "      <td>https://doi.org/10.1162/edfp_a_00360</td>\n",
       "    </tr>\n",
       "    <tr>\n",
       "      <th>3</th>\n",
       "      <td>2022-01-01</td>\n",
       "      <td>f0</td>\n",
       "      <td>Prioritizing School Finance Equity during an E...</td>\n",
       "      <td>Education Finance &amp; Policy</td>\n",
       "      <td>Abstract: State budgets temporarily crashed am...</td>\n",
       "      <td>Knight, D. S., Hassairi, N., Candelaria, C. A....</td>\n",
       "      <td>prioritizing-school-finance-equity</td>\n",
       "      <td>https://doi.org/10.1162/edfp_a_00356</td>\n",
       "    </tr>\n",
       "  </tbody>\n",
       "</table>\n",
       "</div>"
      ],
      "text/plain": [
       "     pub_date forthcoming                                              title  \\\n",
       "0  2015-08-18          f0  Persistence of Regional Wage Differences in China   \n",
       "1  2017-08-30          f0  The Effects of No Child Left Behind on Childre...   \n",
       "2  9999-01-01          f1  Spending More on the Poor? A Comprehensive Sum...   \n",
       "3  2022-01-01          f0  Prioritizing School Finance Equity during an E...   \n",
       "\n",
       "                        venue  \\\n",
       "0     Pacific Economic Review   \n",
       "1                   AERA Open   \n",
       "2  Education Finance & Policy   \n",
       "3  Education Finance & Policy   \n",
       "\n",
       "                                             excerpt  \\\n",
       "0  Abstract: Regional wage differences in China a...   \n",
       "1  Abstract: Many people have worried about possi...   \n",
       "2  Abstract: Sixty-seven school finance reforms (...   \n",
       "3  Abstract: State budgets temporarily crashed am...   \n",
       "\n",
       "                                            citation  \\\n",
       "0  Candelaria, C. A., Daly, M. & Hale, G. (2015)....   \n",
       "1  Whitney, C. R., & Candelaria, C. A. (2017). Th...   \n",
       "2  Shores, K. A., Candelaria, C. A., & Kabourek, ...   \n",
       "3  Knight, D. S., Hassairi, N., Candelaria, C. A....   \n",
       "\n",
       "                             url_slug  \\\n",
       "0     regional-wage-differences-china   \n",
       "1        nclb-socioemotional-outcomes   \n",
       "2           spending-more-on-the-poor   \n",
       "3  prioritizing-school-finance-equity   \n",
       "\n",
       "                                  paper_url  \n",
       "0   https://doi.org/10.1111/1468-0106.12113  \n",
       "1  https://doi.org/10.1177/2332858417726324  \n",
       "2      https://doi.org/10.1162/edfp_a_00360  \n",
       "3      https://doi.org/10.1162/edfp_a_00356  "
      ]
     },
     "execution_count": 23,
     "metadata": {},
     "output_type": "execute_result"
    }
   ],
   "source": [
    "publications = pd.read_csv(\"publications.tsv\", sep=\"\\t\", header=0)\n",
    "publications\n"
   ]
  },
  {
   "cell_type": "markdown",
   "metadata": {},
   "source": [
    "## Escape special characters\n",
    "\n",
    "YAML is very picky about how it takes a valid string, so we are replacing single and double quotes (and ampersands) with their HTML encoded equivilents. This makes them look not so readable in raw format, but they are parsed and rendered nicely."
   ]
  },
  {
   "cell_type": "code",
   "execution_count": 24,
   "metadata": {},
   "outputs": [],
   "source": [
    "html_escape_table = {\n",
    "    \"&\": \"&amp;\",\n",
    "    '\"': \"&quot;\",\n",
    "    \"'\": \"&apos;\"\n",
    "    }\n",
    "\n",
    "def html_escape(text):\n",
    "    \"\"\"Produce entities within text.\"\"\"\n",
    "    return \"\".join(html_escape_table.get(c,c) for c in text)"
   ]
  },
  {
   "cell_type": "markdown",
   "metadata": {},
   "source": [
    "## Creating the markdown files\n",
    "\n",
    "This is where the heavy lifting is done. This loops through all the rows in the TSV dataframe, then starts to concatentate a big string (```md```) that contains the markdown for each type. It does the YAML metadata first, then does the description for the individual page."
   ]
  },
  {
   "cell_type": "code",
   "execution_count": 25,
   "metadata": {},
   "outputs": [],
   "source": [
    "import os\n",
    "for row, item in publications.iterrows():\n",
    "    \n",
    "    if str(item.forthcoming) == \"f0\":\n",
    "        md_filename =   str(item.pub_date) + \"-\" + item.url_slug + \".md\"\n",
    "        html_filename = str(item.pub_date) + \"-\" + item.url_slug\n",
    "    else:\n",
    "        md_filename =   str(item.pub_date) + \"-\" + \"templink-forthcoming\" + \"-\" + item.url_slug + \".md\"\n",
    "        html_filename = str(item.pub_date) + \"-\" + \"templink-forthcoming\" + \"-\" + item.url_slug\n",
    "        \n",
    "    year = item.pub_date[:4]\n",
    "    \n",
    "    ## YAML variables\n",
    "    \n",
    "    md = \"---\\ntitle: \\\"\"   + item.title + '\"\\n'\n",
    "    \n",
    "    md += \"\"\"collection: publications\"\"\"\n",
    "    \n",
    "    md += \"\\nforthcoming: \" + item.forthcoming\n",
    "    \n",
    "    md += \"\"\"\\npermalink: /publications/\"\"\" + html_filename\n",
    "    \n",
    "    if len(str(item.excerpt)) > 5:\n",
    "        md += \"\\nexcerpt: '\" + html_escape(item.excerpt) + \"'\"\n",
    "    \n",
    "    md += \"\\ndate: \" + str(item.pub_date) \n",
    "    \n",
    "    md += \"\\nvenue: '\" + html_escape(item.venue) + \"'\"\n",
    "    \n",
    "    if len(str(item.paper_url)) > 5:\n",
    "        md += \"\\npaperurl: '\" + item.paper_url + \"'\"\n",
    "    \n",
    "    md += \"\\ncitation: '\" + html_escape(item.citation) + \"'\"\n",
    "    \n",
    "    md += \"\\n---\"\n",
    "    \n",
    "    ## Markdown description for individual page\n",
    "        \n",
    "    if len(str(item.excerpt)) > 5:\n",
    "        md += \"\\n\" + html_escape(item.excerpt) + \"\\n\"\n",
    "    \n",
    "    ##if len(str(item.paper_url)) > 5:\n",
    "    ##    md += \"\\n[Download paper here](\" + item.paper_url + \")\\n\" \n",
    "        \n",
    "    ##md += \"\\nRecommended citation: \" + item.citation\n",
    "    \n",
    "    md_filename = os.path.basename(md_filename)\n",
    "       \n",
    "    with open(\"../_publications/\" + md_filename, 'w') as f:\n",
    "        f.write(md)"
   ]
  },
  {
   "cell_type": "markdown",
   "metadata": {},
   "source": [
    "These files are in the publications directory, one directory below where we're working from."
   ]
  },
  {
   "cell_type": "code",
   "execution_count": 26,
   "metadata": {},
   "outputs": [
    {
     "name": "stdout",
     "output_type": "stream",
     "text": [
      "2015-08-18-regional-wage-differences-china.md\r\n",
      "2017-08-30-nclb-socioemotional-outcomes.md\r\n",
      "2022-01-01-prioritizing-school-finance-equity.md\r\n",
      "9999-01-01-spending-more-on-the-poor.md\r\n",
      "9999-01-01-templink-forthcoming-spending-more-on-the-poor.md\r\n",
      "9999-01-01-templink-forthcomingspending-more-on-the-poor.md\r\n"
     ]
    }
   ],
   "source": [
    "!ls ../_publications/"
   ]
  },
  {
   "cell_type": "code",
   "execution_count": 91,
   "metadata": {},
   "outputs": [
    {
     "name": "stdout",
     "output_type": "stream",
     "text": [
      "---\r\n",
      "title: \"Persistence of Regional Wage Differences in China\"\r\n",
      "collection: publications\r\n",
      "forthcoming: f0\r\n",
      "permalink: /publications/2015-08-18-regional-wage-differences-china\r\n",
      "excerpt: 'Abstract: Regional wage differences in China appear to be persistent and even to have grown over the past two decades. We study potential explanations for this phenomenon. After adjusting for the difference in the cost of living across provinces, we find that some of the cross-province differences in real wages could be related to the quality of labour, industry composition and geographic location of provinces. These factors, taken together, explain approximately half of the cross-province real wage variation. Interestingly, we find that interprovincial government transfers have not offset regional wage differences during the time period we consider. We also demonstrate that interprovincial migration, while driven in part by levels and changes in wage differences across provinces, did not help offset these differences. These results are consistent with findings in the literature that cross-province labour mobility in China is still limited.'\r\n",
      "date: 2015-08-18\r\n",
      "venue: 'Pacific Economic Review'\r\n",
      "paperurl: 'https://doi.org/10.1111/1468-0106.12113'\r\n",
      "citation: 'Candelaria, C. A., Daly, M. &amp; Hale, G. (2015). Persistence of Regional Wage Differences in China. <i>Pacific Economic Review</i>. <i>20</i>(3), 365-387.'\r\n",
      "---\r\n",
      "Abstract: Regional wage differences in China appear to be persistent and even to have grown over the past two decades. We study potential explanations for this phenomenon. After adjusting for the difference in the cost of living across provinces, we find that some of the cross-province differences in real wages could be related to the quality of labour, industry composition and geographic location of provinces. These factors, taken together, explain approximately half of the cross-province real wage variation. Interestingly, we find that interprovincial government transfers have not offset regional wage differences during the time period we consider. We also demonstrate that interprovincial migration, while driven in part by levels and changes in wage differences across provinces, did not help offset these differences. These results are consistent with findings in the literature that cross-province labour mobility in China is still limited.\r\n"
     ]
    }
   ],
   "source": [
    "!cat ../_publications/2015-08-18-regional-wage-differences-china.md"
   ]
  },
  {
   "cell_type": "code",
   "execution_count": null,
   "metadata": {},
   "outputs": [],
   "source": []
  }
 ],
 "metadata": {
  "kernelspec": {
   "display_name": "Python 3 (ipykernel)",
   "language": "python",
   "name": "python3"
  },
  "language_info": {
   "codemirror_mode": {
    "name": "ipython",
    "version": 3
   },
   "file_extension": ".py",
   "mimetype": "text/x-python",
   "name": "python",
   "nbconvert_exporter": "python",
   "pygments_lexer": "ipython3",
   "version": "3.9.12"
  }
 },
 "nbformat": 4,
 "nbformat_minor": 1
}
